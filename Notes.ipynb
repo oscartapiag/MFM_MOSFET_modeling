{
 "cells": [
  {
   "cell_type": "code",
   "execution_count": 2,
   "id": "9b447210-3beb-493c-8d87-8ed93a787810",
   "metadata": {},
   "outputs": [],
   "source": [
    "#import\n",
    "import numpy as np\n",
    "import scipy.optimize as opt\n",
    "from scipy.interpolate import interp1d\n",
    "import matplotlib\n",
    "import matplotlib.pyplot as plt\n",
    "import pandas as pd\n",
    "import scipy\n",
    "from scipy import stats\n",
    "\n",
    "%matplotlib inline\n",
    "\n",
    "def chisq(predicted, observed, errors):\n",
    "    res = observed-predicted\n",
    "    norm_res = res / errors\n",
    "    return np.sum(norm_res**2)"
   ]
  }
 ],
 "metadata": {
  "kernelspec": {
   "display_name": "Python 3 (ipykernel)",
   "language": "python",
   "name": "python3"
  },
  "language_info": {
   "codemirror_mode": {
    "name": "ipython",
    "version": 3
   },
   "file_extension": ".py",
   "mimetype": "text/x-python",
   "name": "python",
   "nbconvert_exporter": "python",
   "pygments_lexer": "ipython3",
   "version": "3.9.6"
  }
 },
 "nbformat": 4,
 "nbformat_minor": 5
}
